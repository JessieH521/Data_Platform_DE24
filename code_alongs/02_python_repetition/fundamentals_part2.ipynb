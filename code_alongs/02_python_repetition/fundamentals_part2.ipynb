{
 "cells": [
  {
   "cell_type": "markdown",
   "metadata": {},
   "source": [
    "## Code alongs - Fundamentals part 2"
   ]
  },
  {
   "cell_type": "markdown",
   "metadata": {},
   "source": [
    "## Error handling \n",
    "\n",
    "- syntax errors 语法错误\n",
    "- runtime errors 运行时错误\n",
    "- logical errors 逻辑错误"
   ]
  },
  {
   "cell_type": "code",
   "execution_count": 1,
   "metadata": {},
   "outputs": [
    {
     "ename": "NameError",
     "evalue": "name 'prin' is not defined",
     "output_type": "error",
     "traceback": [
      "\u001b[0;31m---------------------------------------------------------------------------\u001b[0m",
      "\u001b[0;31mNameError\u001b[0m                                 Traceback (most recent call last)",
      "Cell \u001b[0;32mIn[1], line 2\u001b[0m\n\u001b[1;32m      1\u001b[0m \u001b[38;5;66;03m# syntax errors\u001b[39;00m\n\u001b[0;32m----> 2\u001b[0m \u001b[43mprin\u001b[49m(\u001b[38;5;124m\"\u001b[39m\u001b[38;5;124mhej\u001b[39m\u001b[38;5;124m\"\u001b[39m)\n",
      "\u001b[0;31mNameError\u001b[0m: name 'prin' is not defined"
     ]
    }
   ],
   "source": [
    "# syntax errors\n",
    "prin(\"hej\")"
   ]
  },
  {
   "cell_type": "code",
   "execution_count": 2,
   "metadata": {},
   "outputs": [
    {
     "name": "stdout",
     "output_type": "stream",
     "text": [
      "hej\n"
     ]
    }
   ],
   "source": [
    "print(\"hej\")"
   ]
  },
  {
   "cell_type": "code",
   "execution_count": 4,
   "metadata": {},
   "outputs": [
    {
     "ename": "IndexError",
     "evalue": "list index out of range",
     "output_type": "error",
     "traceback": [
      "\u001b[0;31m---------------------------------------------------------------------------\u001b[0m",
      "\u001b[0;31mIndexError\u001b[0m                                Traceback (most recent call last)",
      "Cell \u001b[0;32mIn[4], line 2\u001b[0m\n\u001b[1;32m      1\u001b[0m numbers \u001b[38;5;241m=\u001b[39m \u001b[38;5;28mlist\u001b[39m(\u001b[38;5;28mrange\u001b[39m(\u001b[38;5;241m19\u001b[39m))\n\u001b[0;32m----> 2\u001b[0m \u001b[43mnumbers\u001b[49m\u001b[43m[\u001b[49m\u001b[38;5;241;43m19\u001b[39;49m\u001b[43m]\u001b[49m\n",
      "\u001b[0;31mIndexError\u001b[0m: list index out of range"
     ]
    }
   ],
   "source": [
    "numbers = list(range(19))\n",
    "numbers[19]"
   ]
  },
  {
   "cell_type": "code",
   "execution_count": 6,
   "metadata": {},
   "outputs": [
    {
     "data": {
      "text/plain": [
       "18"
      ]
     },
     "execution_count": 6,
     "metadata": {},
     "output_type": "execute_result"
    }
   ],
   "source": [
    "numbers[18]"
   ]
  },
  {
   "cell_type": "code",
   "execution_count": 12,
   "metadata": {},
   "outputs": [
    {
     "name": "stdout",
     "output_type": "stream",
     "text": [
      "area_circle = 31.42 a.u.\n"
     ]
    }
   ],
   "source": [
    "import numpy as np\n",
    "\n",
    "radius = 10\n",
    "# np.pi*radius**2 is the area of the cicle -> logical error\n",
    "\n",
    "area_circle = radius**2 * np.pi\n",
    "print(f\"{area_circle = :.2f} a.u.\")\n",
    "\n",
    "# :.2f 是指保留两位小数， a.u. 是 \"arbitrary units\"（任意单位）的缩写"
   ]
  },
  {
   "cell_type": "markdown",
   "metadata": {},
   "source": [
    "## Handle errors\n",
    "\n",
    "try - except"
   ]
  },
  {
   "cell_type": "code",
   "execution_count": 13,
   "metadata": {},
   "outputs": [
    {
     "data": {
      "text/plain": [
       "'-42'"
      ]
     },
     "execution_count": 13,
     "metadata": {},
     "output_type": "execute_result"
    }
   ],
   "source": [
    "age = input(\"Enter your age\")\n",
    "age"
   ]
  },
  {
   "cell_type": "code",
   "execution_count": 21,
   "metadata": {},
   "outputs": [
    {
     "name": "stdout",
     "output_type": "stream",
     "text": [
      "invalid literal for int() with base 10: 'dsdj'\n",
      "Age must be between 0 and 125 not 567\n",
      "Age must be between 0 and 125 not -23\n"
     ]
    },
    {
     "data": {
      "text/plain": [
       "12"
      ]
     },
     "execution_count": 21,
     "metadata": {},
     "output_type": "execute_result"
    }
   ],
   "source": [
    "while True:\n",
    "    try:\n",
    "        # type casting might give ValueError 类型转换可能会给出 ValueError\n",
    "        age = int(input(\"Enter your age\"))\n",
    "        if not 0  <= age <= 125:\n",
    "            raise ValueError(f\"Age must be between 0 and 125 not {age}\")\n",
    "        break\n",
    "    except ValueError as err:\n",
    "        print(err)\n",
    "\n",
    "age"
   ]
  },
  {
   "cell_type": "markdown",
   "metadata": {},
   "source": [
    "## Functions"
   ]
  },
  {
   "cell_type": "markdown",
   "metadata": {},
   "source": [
    "- avoid spaghetti kod - 结构混乱、难以维护、且缺乏清晰逻辑和组织的程序代码。\n",
    "- change one place\n",
    "- DRY - Don't Repeat Yourself\n",
    "- organize code\n",
    "- make code modular\n",
    "- break down complex programs\n"
   ]
  },
  {
   "cell_type": "markdown",
   "metadata": {},
   "source": [
    "### oneline if - else"
   ]
  },
  {
   "cell_type": "code",
   "execution_count": 22,
   "metadata": {},
   "outputs": [
    {
     "data": {
      "text/plain": [
       "-5"
      ]
     },
     "execution_count": 22,
     "metadata": {},
     "output_type": "execute_result"
    }
   ],
   "source": [
    "# number1 and number2 are paramters\n",
    "def smallest_of_two(number1, number2):\n",
    "    return number1 if number1 < number2 else number2   # Java: number1 ? number1 <number2: number2\n",
    "\n",
    "# positional arguments 位置参数\n",
    "smallest_of_two(2, -5)"
   ]
  },
  {
   "cell_type": "code",
   "execution_count": 23,
   "metadata": {},
   "outputs": [
    {
     "data": {
      "text/plain": [
       "-5"
      ]
     },
     "execution_count": 23,
     "metadata": {},
     "output_type": "execute_result"
    }
   ],
   "source": [
    "# keyword arguments 关键字参数\n",
    "smallest_of_two(number1=-5, number2=-5)"
   ]
  },
  {
   "cell_type": "code",
   "execution_count": 25,
   "metadata": {},
   "outputs": [
    {
     "data": {
      "text/plain": [
       "-9"
      ]
     },
     "execution_count": 25,
     "metadata": {},
     "output_type": "execute_result"
    }
   ],
   "source": [
    "smallest_of_two(-5, number2=-9)"
   ]
  },
  {
   "cell_type": "markdown",
   "metadata": {},
   "source": [
    "**default value**\n",
    "\n",
    "双星号 (** )：/表示加粗文本。 例如：** text ** 会显示为 text"
   ]
  },
  {
   "cell_type": "code",
   "execution_count": 4,
   "metadata": {},
   "outputs": [
    {
     "name": "stdout",
     "output_type": "stream",
     "text": [
      "00000\n",
      "000\n"
     ]
    }
   ],
   "source": [
    "# x o o o o \n",
    "# x x o o o \n",
    "# x x x o o \n",
    "# x x x x o\n",
    "# x x x x x \n",
    "\n",
    "def draw_ascii_pattern(number_rows= 5):\n",
    "    print(number_rows*\"0\")\n",
    "\n",
    "# note default value: number_rows = 5\n",
    "draw_ascii_pattern()\n",
    "\n",
    "draw_ascii_pattern(3)"
   ]
  },
  {
   "cell_type": "code",
   "execution_count": 7,
   "metadata": {},
   "outputs": [
    {
     "name": "stdout",
     "output_type": "stream",
     "text": [
      "0 0 0 0 0 \n",
      "0 0 0 0 0 \n",
      "0 0 0 0 0 \n",
      "0 0 0 0 0 \n",
      "0 0 0 0 0 \n"
     ]
    }
   ],
   "source": [
    "def draw_ascii_pattern(number_rows= 5):\n",
    "    for i in range(number_rows):\n",
    "        print(number_rows*\"0 \")\n",
    "\n",
    "draw_ascii_pattern()"
   ]
  },
  {
   "cell_type": "code",
   "execution_count": 10,
   "metadata": {},
   "outputs": [
    {
     "name": "stdout",
     "output_type": "stream",
     "text": [
      "0 0 0 0 0 \n",
      "x 0 0 0 0 \n",
      "x x 0 0 0 \n",
      "x x x 0 0 \n",
      "x x x x 0 \n"
     ]
    }
   ],
   "source": [
    "def draw_ascii_pattern(number_rows= 5):\n",
    "    for i in range(number_rows):\n",
    "        print(f'{i*\"x \" + (number_rows-i)*\"0 \"}')\n",
    "\n",
    "draw_ascii_pattern()"
   ]
  },
  {
   "cell_type": "code",
   "execution_count": 11,
   "metadata": {},
   "outputs": [
    {
     "name": "stdout",
     "output_type": "stream",
     "text": [
      "0 0 0 \n",
      "x 0 0 \n",
      "x x 0 \n"
     ]
    }
   ],
   "source": [
    "draw_ascii_pattern(3)"
   ]
  },
  {
   "cell_type": "markdown",
   "metadata": {},
   "source": [
    "\\*args     \n",
    "\n",
    "- 在 Markdown 或其他文档格式中，*args 前加反斜杠 \\ 的原因是为了 转义星号 *，防止它被解析为 Markdown 的强调语法。\n",
    "- arbitrary number of positional arguments 任意数量的位置参数"
   ]
  },
  {
   "cell_type": "code",
   "execution_count": 12,
   "metadata": {},
   "outputs": [
    {
     "name": "stdout",
     "output_type": "stream",
     "text": [
      "(1, 2, 3, 4)\n"
     ]
    }
   ],
   "source": [
    "def mean_(*args):\n",
    "    print(args)\n",
    "\n",
    "mean_(1,2,3,4)"
   ]
  },
  {
   "cell_type": "code",
   "execution_count": 13,
   "metadata": {},
   "outputs": [
    {
     "name": "stdout",
     "output_type": "stream",
     "text": [
      "(1, 2)\n"
     ]
    }
   ],
   "source": [
    "mean_(1,2)"
   ]
  },
  {
   "cell_type": "code",
   "execution_count": 14,
   "metadata": {},
   "outputs": [
    {
     "data": {
      "text/plain": [
       "2.0"
      ]
     },
     "execution_count": 14,
     "metadata": {},
     "output_type": "execute_result"
    }
   ],
   "source": [
    "def mean_(*args):\n",
    "    sum_ = 0\n",
    "\n",
    "    for arg in args:\n",
    "        sum_ += arg\n",
    "    return sum_/len(args)\n",
    "\n",
    "mean_(1,2,3)"
   ]
  },
  {
   "cell_type": "markdown",
   "metadata": {},
   "source": [
    "\\**kwargs\n",
    "\n",
    "- 接收任意数量的字典                  \n",
    "\n",
    "- 在 Python 中，**kwargs 是一种常见的命名约定，但并不是一个必须的名称。实际上，你可以用任何合法的变量名来替代 kwargs，例如这里用的是 options。核心点在于：\n",
    "\n",
    "** 的含义                \n",
    "** 是语法规则，用于将传入的关键字参数打包成字典。    \n",
    "**options 中，options 是一个变量名，用来接收关键字参数。        \n",
    "关键点：**kwargs 中的 kwargs 并不是特殊关键字，仅仅是一个常规的变量名，完全可以用其他名字替代。        "
   ]
  },
  {
   "cell_type": "code",
   "execution_count": 16,
   "metadata": {},
   "outputs": [
    {
     "name": "stdout",
     "output_type": "stream",
     "text": [
      "{'a': 5, 'is_active': True, 'age': 33}\n",
      "options.keys() = dict_keys(['a', 'is_active', 'age'])\n",
      "options.values() = dict_values([5, True, 33])\n"
     ]
    }
   ],
   "source": [
    "# **options 是一个用来接受任意数量的关键字参数的特殊语法。\n",
    "# 当调用函数并传递类似 key=value 的关键字参数时，这些参数会被打包成一个 字典，并存储在 options 变量中\n",
    "\n",
    "\n",
    "def print_kwargs(**options):\n",
    "    print(options)\n",
    "    print(f\"{options.keys() = }\")\n",
    "    print(f\"{options.values() = }\")\n",
    "\n",
    "print_kwargs(a = 5, is_active = True, age = 33)"
   ]
  },
  {
   "cell_type": "markdown",
   "metadata": {},
   "source": [
    "## File handling"
   ]
  },
  {
   "cell_type": "code",
   "execution_count": 19,
   "metadata": {},
   "outputs": [
    {
     "name": "stdout",
     "output_type": "stream",
     "text": [
      "SUperViseD    LEARNinG IS a    PaRt    oF MaCHinE    LEARniNG,   wheRE aLgORithms    LEARn FRom a tRAINIng    DaTa Set. THese   aLgORithms   TRY   TO    MaKE   SeNSe   Of    ThE    DaTa   BY    MaTChiNG    INpUtS   TO    CoRResPonDInG   OutpUTs. In    suPERviseD    LEARNing,    EACH    DaTa   PoINt in    ThE   tRAINIng    Set    IS    LaBELEd WiTH    ThE    CoRReCT    OutpUT,    WHich   aLLOWS   thE ALgORithM    To    LEARn   FRom ThE    ExAMPles. THis   alLOWS   thE    ALgORithM    To    MaKe    PREDIcTions    On    UnSEEN    DaTa, BaSED On    ITs    TRaiNIng. iT    IS    USEd FoR    taSKS SuCH    AS CLaSSIFICaTion, WheRE ThE    GoAL    IS    To    aSSIGn    a LaBEL To    InpUt DaTa,    anD REGrESsIoN, WheRE ThE    GoAL    IS    To    PREDIcT    a CoNtINuoUS    OutpUT VaRIabLE. SuPERviseD    LEARNing    HaS    MaNY    APPLIcatIoNS In    ArEas LIke    Image ReCOGNitiON, NatuRaL    LaNGuaGE PRoCESSINg,    anD FiNaNCiaL FoRECasting.\n"
     ]
    }
   ],
   "source": [
    "with open(\"data/ml_text_raw.txt\", 'r') as file:\n",
    "    print(file.read())"
   ]
  },
  {
   "cell_type": "code",
   "execution_count": 23,
   "metadata": {},
   "outputs": [
    {
     "name": "stdout",
     "output_type": "stream",
     "text": [
      "\n"
     ]
    },
    {
     "data": {
      "text/plain": [
       "'SUperViseD LEARNinG IS a PaRt oF MaCHinE LEARniNG, wheRE aLgORithms LEARn FRom a tRAINIng DaTa Set. THese aLgORithms TRY TO MaKE SeNSe Of ThE DaTa BY MaTChiNG INpUtS TO CoRResPonDInG OutpUTs. In suPERviseD LEARNing, EACH DaTa PoINt in ThE tRAINIng Set IS LaBELEd WiTH ThE CoRReCT OutpUT, WHich aLLOWS thE ALgORithM To LEARn FRom ThE ExAMPles. THis alLOWS thE ALgORithM To MaKe PREDIcTions On UnSEEN DaTa, BaSED On ITs TRaiNIng. iT IS USEd FoR taSKS SuCH AS CLaSSIFICaTion, WheRE ThE GoAL IS To aSSIGn a LaBEL To InpUt DaTa, anD REGrESsIoN, WheRE ThE GoAL IS To PREDIcT a CoNtINuoUS OutpUT VaRIabLE. SuPERviseD LEARNing HaS MaNY APPLIcatIoNS In ArEas LIke Image ReCOGNitiON, NatuRaL LaNGuaGE PRoCESSINg, anD FiNaNCiaL FoRECasting.'"
      ]
     },
     "execution_count": 23,
     "metadata": {},
     "output_type": "execute_result"
    }
   ],
   "source": [
    "import re     # re：正则表达式\n",
    "\n",
    "with open(\"data/ml_text_raw.txt\", 'r') as file:\n",
    "    raw_text = file.read()\n",
    "    print(file.read())\n",
    "\n",
    "\n",
    "text_fixed_spacing = re.sub(r\"\\s+\", \" \", raw_text)    # \\s 表示任意空白字符，1个以上空格变成1个空格\n",
    "text_fixed_spacing"
   ]
  },
  {
   "cell_type": "code",
   "execution_count": 25,
   "metadata": {},
   "outputs": [
    {
     "data": {
      "text/plain": [
       "['SUperViseD LEARNinG IS a PaRt oF MaCHinE LEARniNG, wheRE aLgORithms LEARn FRom a tRAINIng DaTa Set',\n",
       " 'THese aLgORithms TRY TO MaKE SeNSe Of ThE DaTa BY MaTChiNG INpUtS TO CoRResPonDInG OutpUTs',\n",
       " 'In suPERviseD LEARNing, EACH DaTa PoINt in ThE tRAINIng Set IS LaBELEd WiTH ThE CoRReCT OutpUT, WHich aLLOWS thE ALgORithM To LEARn FRom ThE ExAMPles',\n",
       " 'THis alLOWS thE ALgORithM To MaKe PREDIcTions On UnSEEN DaTa, BaSED On ITs TRaiNIng',\n",
       " 'iT IS USEd FoR taSKS SuCH AS CLaSSIFICaTion, WheRE ThE GoAL IS To aSSIGn a LaBEL To InpUt DaTa, anD REGrESsIoN, WheRE ThE GoAL IS To PREDIcT a CoNtINuoUS OutpUT VaRIabLE',\n",
       " 'SuPERviseD LEARNing HaS MaNY APPLIcatIoNS In ArEas LIke Image ReCOGNitiON, NatuRaL LaNGuaGE PRoCESSINg, anD FiNaNCiaL FoRECasting.']"
      ]
     },
     "execution_count": 25,
     "metadata": {},
     "output_type": "execute_result"
    }
   ],
   "source": [
    "text_fixed_spacing.split(\". \")\n",
    "\n",
    "# \". \": 这是分隔符，表示句号后跟一个空格。即，每当字符串中出现 .  的地方，字符串会被切分成两部分。\n",
    "# 特点：\n",
    "# 不包含分隔符：分割后，返回的每个片段不再包含 . 。\n",
    "# 句号末尾的情况：如果字符串以 . 结尾，最后的空字符串也会被返回"
   ]
  },
  {
   "cell_type": "code",
   "execution_count": 26,
   "metadata": {},
   "outputs": [
    {
     "data": {
      "text/plain": [
       "['Supervised learning is a part of machine learning, where algorithms learn from a training data set',\n",
       " 'These algorithms try to make sense of the data by matching inputs to corresponding outputs',\n",
       " 'In supervised learning, each data point in the training set is labeled with the correct output, which allows the algorithm to learn from the examples',\n",
       " 'This allows the algorithm to make predictions on unseen data, based on its training',\n",
       " 'It is used for tasks such as classification, where the goal is to assign a label to input data, and regression, where the goal is to predict a continuous output variable',\n",
       " 'Supervised learning has many applications in areas like image recognition, natural language processing, and financial forecasting.']"
      ]
     },
     "execution_count": 26,
     "metadata": {},
     "output_type": "execute_result"
    }
   ],
   "source": [
    "[text.capitalize() for text in text_fixed_spacing.split(\". \")]\n",
    "\n",
    "# 通过列表推导式实现的操作，将字符串 text_fixed_spacing 按照句子（以 \". \" 分隔的部分）拆分成多个部分，然后对每一部分的首字母进行大写，最终生成一个新列表"
   ]
  },
  {
   "cell_type": "code",
   "execution_count": 29,
   "metadata": {},
   "outputs": [
    {
     "data": {
      "text/plain": [
       "['Supervised learning is a part of machine learning, where algorithms learn from a training data set',\n",
       " 'These algorithms try to make sense of the data by matching inputs to corresponding outputs',\n",
       " 'In supervised learning, each data point in the training set is labeled with the correct output, which allows the algorithm to learn from the examples',\n",
       " 'This allows the algorithm to make predictions on unseen data, based on its training',\n",
       " 'It is used for tasks such as classification, where the goal is to assign a label to input data, and regression, where the goal is to predict a continuous output variable']"
      ]
     },
     "execution_count": 29,
     "metadata": {},
     "output_type": "execute_result"
    }
   ],
   "source": [
    "# text.strip()：移除每个分割出来的句子首尾的多余空白字符。\n",
    "\n",
    "sentences = [text.strip().capitalize() for text in text_fixed_spacing.split(\". \")]\n",
    "sentences = sentences[:-1]  # 获取列表中从第一个元素到倒数第二个元素的所有内容（不包含最后一个元素）。\n",
    "sentences"
   ]
  },
  {
   "cell_type": "code",
   "execution_count": 30,
   "metadata": {},
   "outputs": [
    {
     "name": "stdout",
     "output_type": "stream",
     "text": [
      "Supervised learning is a part of machine learning, where algorithms learn from a training data set.\n",
      "\n",
      "These algorithms try to make sense of the data by matching inputs to corresponding outputs.\n",
      "\n",
      "In supervised learning, each data point in the training set is labeled with the correct output, which allows the algorithm to learn from the examples.\n",
      "\n",
      "This allows the algorithm to make predictions on unseen data, based on its training.\n",
      "\n",
      "It is used for tasks such as classification, where the goal is to assign a label to input data, and regression, where the goal is to predict a continuous output variable\n"
     ]
    }
   ],
   "source": [
    "cleaned_text = \".\\n\\n\".join(sentences)\n",
    "print(cleaned_text)\n",
    "\n",
    "# 每个句子后面加 \".\\n\\n\"，以便形成段落分隔，两个换行符 \\n\\n 的作用是：在每个句子后面加一个空行，形成段落的效果。\n",
    "# .join() 将句子列表合并成一个字符串。\n"
   ]
  },
  {
   "cell_type": "code",
   "execution_count": 31,
   "metadata": {},
   "outputs": [],
   "source": [
    "with open(\"data/cleaned_ml_text.txt\", 'w') as file:\n",
    "    file.write(cleaned_text)   # 将字符串写入文件\n",
    "\n",
    "# 1. with open() 这是用来打开文件的语句，with 语句确保文件操作完成后，文件会自动关闭，无需手动调用 file.close()。\n",
    "# 'w' 模式表示 写入模式：如果文件不存在，会自动创建文件。如果文件已存在，会清空文件内容，然后写入新内容"
   ]
  },
  {
   "cell_type": "code",
   "execution_count": null,
   "metadata": {},
   "outputs": [],
   "source": []
  },
  {
   "cell_type": "code",
   "execution_count": null,
   "metadata": {},
   "outputs": [],
   "source": []
  }
 ],
 "metadata": {
  "kernelspec": {
   "display_name": ".venv",
   "language": "python",
   "name": "python3"
  },
  "language_info": {
   "codemirror_mode": {
    "name": "ipython",
    "version": 3
   },
   "file_extension": ".py",
   "mimetype": "text/x-python",
   "name": "python",
   "nbconvert_exporter": "python",
   "pygments_lexer": "ipython3",
   "version": "3.11.5"
  }
 },
 "nbformat": 4,
 "nbformat_minor": 2
}
