{
 "cells": [
  {
   "cell_type": "markdown",
   "metadata": {},
   "source": [
    "# Matplotlib\n",
    "\n"
   ]
  },
  {
   "cell_type": "markdown",
   "metadata": {},
   "source": [
    "## Matplotlib 的组成\n",
    "\n",
    "matplotlib 是一个完整的绘图库，包含以下主要模块：\n",
    "\n",
    "matplotlib.pyplot： 提供类似 MATLAB 的功能，直接调用函数即可生成图表，是 Matplotlib 最常用的模块。\n",
    "\n",
    "matplotlib.figure： 管理图形对象的模块，通常用户不直接操作。\n",
    "\n",
    "matplotlib.axes： 管理图表的坐标系和具体绘图内容"
   ]
  },
  {
   "cell_type": "code",
   "execution_count": null,
   "metadata": {},
   "outputs": [],
   "source": []
  }
 ],
 "metadata": {
  "kernelspec": {
   "display_name": ".venv",
   "language": "python",
   "name": "python3"
  },
  "language_info": {
   "name": "python",
   "version": "3.11.5"
  }
 },
 "nbformat": 4,
 "nbformat_minor": 2
}
