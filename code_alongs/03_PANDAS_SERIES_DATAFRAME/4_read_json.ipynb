{
 "cells": [
  {
   "cell_type": "markdown",
   "metadata": {},
   "source": [
    "## 读取 写入 JSON 文件\n",
    "- json.load() 读取文件内容   \n",
    "json.load(file) 用于将 JSON 文件的内容解析为 Python 对象（通常是字典或列表）。必须先用 Python 的 open() 打开文件。\n",
    "\n",
    "- json.dump(data, file, indent=4)：将 Python 对象序列化为 JSON 格式并写入文件。\n"
   ]
  },
  {
   "cell_type": "code",
   "execution_count": null,
   "metadata": {},
   "outputs": [],
   "source": [
    "import json\n",
    "from pathlib import Path\n",
    "\n",
    "# 文件路径\n",
    "input_file = Path(\"data.json\")  # 原始文件\n",
    "output_file = Path(\"cleaned_data.json\")  # 清理后的文件\n",
    "\n",
    "# Step 1: 读取 JSON 文件\n",
    "with open(input_file, \"r\") as file:\n",
    "    data = json.load(file)  # 将 JSON 文件内容解析为 Python 列表\n",
    "\n",
    "# Step 2: 数据清理\n",
    "# 规则：移除包含 null 值的记录\n",
    "cleaned_data = [entry for entry in data if None not in entry.values()]\n",
    "\n",
    "# Step 3: 保存清理后的数据到新 JSON 文件\n",
    "with open(output_file, \"w\") as file:\n",
    "    json.dump(cleaned_data, file, indent=4)  # 格式化保存，设置缩进为 4 格\n",
    "\n",
    "print(f\"Cleaned data has been saved to {output_file}\")\n"
   ]
  },
  {
   "cell_type": "markdown",
   "metadata": {},
   "source": [
    "1. 文件路径：\n",
    "\n",
    "使用 Path（来自 pathlib）模块操作路径，方便跨平台使用。\n",
    "input_file 和 output_file 分别表示输入和输出的文件路径。\n",
    "2. 读取数据：\n",
    "\n",
    "json.load(file) 将文件内容加载为 Python 数据结构（这里是列表）。\n",
    "3. 清理数据：\n",
    "\n",
    "使用列表推导式 [entry for entry in data if None not in entry.values()]。\n",
    "检查每个记录的值（entry.values()），如果包含 None，就过滤掉。\n",
    "4. 保存清理后数据：\n",
    "\n",
    "使用 json.dump(data, file, indent=4) 将 Python 数据写入文件。\n",
    "indent=4 美化输出，方便阅读。\n",
    "\n",
    "\n"
   ]
  },
  {
   "cell_type": "markdown",
   "metadata": {},
   "source": [
    "## txt 文件"
   ]
  },
  {
   "cell_type": "code",
   "execution_count": null,
   "metadata": {},
   "outputs": [],
   "source": [
    "from pathlib import Path\n",
    "\n",
    "# 文件路径\n",
    "file_path = Path(\"example.txt\")\n",
    "\n",
    "# 读取文本文件\n",
    "with open(file_path, \"r\", encoding=\"utf-8\") as file:\n",
    "    content = file.readlines()  # 按行读取为列表\n",
    "\n",
    "# 写入文本文件\n",
    "new_file = Path(\"example_copy.txt\")\n",
    "with open(new_file, \"w\", encoding=\"utf-8\") as file:\n",
    "    file.write(\"\".join(content))  # 将列表内容写入新文件"
   ]
  },
  {
   "cell_type": "markdown",
   "metadata": {},
   "source": [
    "### seaborn github 上的 csv 数据提取的两种方式：\n",
    "\n",
    "1. df = pd.read_csv(url)      pandas 访问网址\n",
    "\n",
    "2. titanic = sns.load_dataset(\"titanic\")     sns 直接+ 数据名"
   ]
  },
  {
   "cell_type": "code",
   "execution_count": null,
   "metadata": {},
   "outputs": [],
   "source": [
    "# 1 \n",
    "import pandas as pd\n",
    "import seaborn as sns\n",
    "\n",
    "url = \"https://raw.githubusercontent.com/mwaskom/seaborn-data/master/titanic.csv\"\n",
    "\n",
    "df = pd.read_csv(url)\n",
    "df.head()"
   ]
  },
  {
   "cell_type": "code",
   "execution_count": null,
   "metadata": {},
   "outputs": [],
   "source": [
    "import seaborn as sns\n",
    "\n",
    "titanic = sns.load_dataset(\"titanic\")   # Dataframe\n",
    "titanic.head()"
   ]
  },
  {
   "cell_type": "markdown",
   "metadata": {},
   "source": [
    "## csv 和 excel/.xlsx 文档，适合用pandas 读取 更快 更好 因为都是表格"
   ]
  },
  {
   "cell_type": "code",
   "execution_count": null,
   "metadata": {},
   "outputs": [],
   "source": [
    "import pandas as pd\n",
    "\n",
    "# 使用 pandas 读取 Excel 文件\n",
    "df = pd.read_excel(\"data/riket2023_åk9_np.xlsx\")\n",
    "\n",
    "# 显示读取的数据\n",
    "print(df)"
   ]
  },
  {
   "cell_type": "code",
   "execution_count": null,
   "metadata": {},
   "outputs": [],
   "source": [
    "df = pd.read_csv(\"data/riket2023_åk9_np.csv\")"
   ]
  },
  {
   "cell_type": "markdown",
   "metadata": {},
   "source": [
    "## csv 文件"
   ]
  },
  {
   "cell_type": "code",
   "execution_count": null,
   "metadata": {},
   "outputs": [],
   "source": [
    "# 文件路径\n",
    "file_path = \"example.csv\"\n",
    "\n",
    "# 读取 CSV 文件\n",
    "with open(file_path, \"r\", encoding=\"utf-8\") as file:\n",
    "    reader = csv.DictReader(file)  # 将每行作为字典读取\n",
    "    data = [row for row in reader]  # 保存为列表\n",
    "\n",
    "# 写入 CSV 文件\n",
    "output_file = \"output.csv\"\n",
    "with open(output_file, \"w\", encoding=\"utf-8\", newline=\"\") as file:\n",
    "    fieldnames = data[0].keys()  # 获取列名\n",
    "    writer = csv.DictWriter(file, fieldnames=fieldnames)\n",
    "    writer.writeheader()  # 写入表头\n",
    "    writer.writerows(data)  # 写入行"
   ]
  },
  {
   "cell_type": "markdown",
   "metadata": {},
   "source": [
    "## Excel 文件\n",
    "使用 openpyxl 读取和写入 Excel"
   ]
  },
  {
   "cell_type": "code",
   "execution_count": null,
   "metadata": {},
   "outputs": [],
   "source": [
    "from openpyxl import load_workbook, Workbook\n",
    "\n",
    "# 读取 Excel 文件\n",
    "file_path = \"example.xlsx\"\n",
    "wb = load_workbook(file_path)\n",
    "sheet = wb.active  # 获取活动工作表\n",
    "\n",
    "# 读取单元格内容\n",
    "data = []\n",
    "for row in sheet.iter_rows(values_only=True):  # 按行读取数据\n",
    "    data.append(row)\n",
    "\n",
    "# 写入新的 Excel 文件\n",
    "output_file = \"output.xlsx\"\n",
    "new_wb = Workbook()\n",
    "new_sheet = new_wb.active\n",
    "for row in data:\n",
    "    new_sheet.append(row)  # 将数据逐行写入\n",
    "\n",
    "new_wb.save(output_file)"
   ]
  },
  {
   "cell_type": "markdown",
   "metadata": {},
   "source": [
    "## pd.read_excel()  and pd.ExcelFile()\n",
    "\n",
    "1. pd.read_excel()\n",
    "pd.read_excel() 是 pandas 中最常用的读取 Excel 文件的函数，它直接读取 Excel 文件的内容，并返回一个 DataFrame。每次调用此函数时，它都会打开文件、读取数据并关闭文件。\n",
    "\n",
    "主要特点：\n",
    "直接读取文件并返回一个 DataFrame。\n",
    "每次调用都会重新打开文件并读取。\n",
    "适合读取单一的 Excel 表单或是简单的 Excel 文件。\n",
    "\n",
    "import pandas as pd\n",
    "# 直接读取Excel文件并返回DataFrame\n",
    "df = pd.read_excel('file.xlsx', sheet_name='Sheet1')\n",
    "\n",
    "2. pd.ExcelFile()\n",
    "pd.ExcelFile() 创建一个 Excel 文件对象，可以在该对象上进行操作，如读取文件中的多个表单。它更适合于处理包含多个工作表或需要多次读取同一 Excel 文件的情况。创建 ExcelFile 对象后，你可以在不重复打开文件的情况下，读取多个表单的内容。\n",
    "\n",
    "主要特点：\n",
    "创建一个 Excel 文件对象，并可以通过该对象读取多个工作表的数据。\n",
    "打开 Excel 文件一次并缓存文件内容，避免重复读取文件。\n",
    "提供更多的灵活性，如查看所有工作表名称、读取指定的工作表等。\n",
    "import pandas as pd\n",
    "\n",
    "- 创建ExcelFile对象\n",
    "xls = pd.ExcelFile('file.xlsx')\n",
    "\n",
    "- 查看所有工作表名称\n",
    "print(xls.sheet_names)\n",
    "\n",
    "- 读取特定工作表的数据\n",
    "df1 = xls.parse('Sheet1')  当你已经创建了 ExcelFile 对象，并且可能需要频繁读取同一文件的多个工作表时，parse() 是更高效的选择\n",
    "df2 = pd.read_excel('Sheet2')   适合一次性读取文件或处理较少工作表的简单场景，代码简洁，使用方便。"
   ]
  }
 ],
 "metadata": {
  "kernelspec": {
   "display_name": ".venv",
   "language": "python",
   "name": "python3"
  },
  "language_info": {
   "name": "python",
   "version": "3.11.5"
  }
 },
 "nbformat": 4,
 "nbformat_minor": 2
}
