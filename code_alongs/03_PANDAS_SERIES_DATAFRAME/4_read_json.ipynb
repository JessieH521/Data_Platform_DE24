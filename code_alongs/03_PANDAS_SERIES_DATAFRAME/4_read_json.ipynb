{
 "cells": [
  {
   "cell_type": "markdown",
   "metadata": {},
   "source": [
    "## 读取 写入 JSON 文件\n",
    "- json.load() 读取文件内容   \n",
    "json.load(file) 用于将 JSON 文件的内容解析为 Python 对象（通常是字典或列表）。必须先用 Python 的 open() 打开文件。\n",
    "\n",
    "- json.dump(data, file, indent=4)：将 Python 对象序列化为 JSON 格式并写入文件。\n"
   ]
  },
  {
   "cell_type": "code",
   "execution_count": null,
   "metadata": {},
   "outputs": [],
   "source": [
    "import json\n",
    "from pathlib import Path\n",
    "\n",
    "# 文件路径\n",
    "input_file = Path(\"data.json\")  # 原始文件\n",
    "output_file = Path(\"cleaned_data.json\")  # 清理后的文件\n",
    "\n",
    "# Step 1: 读取 JSON 文件\n",
    "with open(input_file, \"r\") as file:\n",
    "    data = json.load(file)  # 将 JSON 文件内容解析为 Python 列表\n",
    "\n",
    "# Step 2: 数据清理\n",
    "# 规则：移除包含 null 值的记录\n",
    "cleaned_data = [entry for entry in data if None not in entry.values()]\n",
    "\n",
    "# Step 3: 保存清理后的数据到新 JSON 文件\n",
    "with open(output_file, \"w\") as file:\n",
    "    json.dump(cleaned_data, file, indent=4)  # 格式化保存，设置缩进为 4 格\n",
    "\n",
    "print(f\"Cleaned data has been saved to {output_file}\")\n"
   ]
  },
  {
   "cell_type": "markdown",
   "metadata": {},
   "source": [
    "1. 文件路径：\n",
    "\n",
    "使用 Path（来自 pathlib）模块操作路径，方便跨平台使用。\n",
    "input_file 和 output_file 分别表示输入和输出的文件路径。\n",
    "2. 读取数据：\n",
    "\n",
    "json.load(file) 将文件内容加载为 Python 数据结构（这里是列表）。\n",
    "3. 清理数据：\n",
    "\n",
    "使用列表推导式 [entry for entry in data if None not in entry.values()]。\n",
    "检查每个记录的值（entry.values()），如果包含 None，就过滤掉。\n",
    "4. 保存清理后数据：\n",
    "\n",
    "使用 json.dump(data, file, indent=4) 将 Python 数据写入文件。\n",
    "indent=4 美化输出，方便阅读。\n",
    "\n",
    "\n"
   ]
  },
  {
   "cell_type": "markdown",
   "metadata": {},
   "source": [
    "## txt 文件"
   ]
  },
  {
   "cell_type": "code",
   "execution_count": null,
   "metadata": {},
   "outputs": [],
   "source": [
    "from pathlib import Path\n",
    "\n",
    "# 文件路径\n",
    "file_path = Path(\"example.txt\")\n",
    "\n",
    "# 读取文本文件\n",
    "with open(file_path, \"r\", encoding=\"utf-8\") as file:\n",
    "    content = file.readlines()  # 按行读取为列表\n",
    "\n",
    "# 写入文本文件\n",
    "new_file = Path(\"example_copy.txt\")\n",
    "with open(new_file, \"w\", encoding=\"utf-8\") as file:\n",
    "    file.write(\"\".join(content))  # 将列表内容写入新文件"
   ]
  },
  {
   "cell_type": "markdown",
   "metadata": {},
   "source": [
    "## csv 和 excel/.xlsx 文档，适合用pandas 读取 更快 更好 因为都是表格"
   ]
  },
  {
   "cell_type": "code",
   "execution_count": null,
   "metadata": {},
   "outputs": [],
   "source": [
    "import pandas as pd\n",
    "\n",
    "# 使用 pandas 读取 Excel 文件\n",
    "df = pd.read_excel(\"data/riket2023_åk9_np.xlsx\")\n",
    "\n",
    "# 显示读取的数据\n",
    "print(df)"
   ]
  },
  {
   "cell_type": "code",
   "execution_count": null,
   "metadata": {},
   "outputs": [],
   "source": [
    "df = pd.read_csv(\"data/riket2023_åk9_np.csv\")"
   ]
  },
  {
   "cell_type": "markdown",
   "metadata": {},
   "source": [
    "## csv 文件"
   ]
  },
  {
   "cell_type": "code",
   "execution_count": null,
   "metadata": {},
   "outputs": [],
   "source": [
    "# 文件路径\n",
    "file_path = \"example.csv\"\n",
    "\n",
    "# 读取 CSV 文件\n",
    "with open(file_path, \"r\", encoding=\"utf-8\") as file:\n",
    "    reader = csv.DictReader(file)  # 将每行作为字典读取\n",
    "    data = [row for row in reader]  # 保存为列表\n",
    "\n",
    "# 写入 CSV 文件\n",
    "output_file = \"output.csv\"\n",
    "with open(output_file, \"w\", encoding=\"utf-8\", newline=\"\") as file:\n",
    "    fieldnames = data[0].keys()  # 获取列名\n",
    "    writer = csv.DictWriter(file, fieldnames=fieldnames)\n",
    "    writer.writeheader()  # 写入表头\n",
    "    writer.writerows(data)  # 写入行"
   ]
  },
  {
   "cell_type": "markdown",
   "metadata": {},
   "source": [
    "## Excel 文件\n",
    "使用 openpyxl 读取和写入 Excel"
   ]
  },
  {
   "cell_type": "code",
   "execution_count": null,
   "metadata": {},
   "outputs": [],
   "source": [
    "from openpyxl import load_workbook, Workbook\n",
    "\n",
    "# 读取 Excel 文件\n",
    "file_path = \"example.xlsx\"\n",
    "wb = load_workbook(file_path)\n",
    "sheet = wb.active  # 获取活动工作表\n",
    "\n",
    "# 读取单元格内容\n",
    "data = []\n",
    "for row in sheet.iter_rows(values_only=True):  # 按行读取数据\n",
    "    data.append(row)\n",
    "\n",
    "# 写入新的 Excel 文件\n",
    "output_file = \"output.xlsx\"\n",
    "new_wb = Workbook()\n",
    "new_sheet = new_wb.active\n",
    "for row in data:\n",
    "    new_sheet.append(row)  # 将数据逐行写入\n",
    "\n",
    "new_wb.save(output_file)"
   ]
  }
 ],
 "metadata": {
  "language_info": {
   "name": "python"
  }
 },
 "nbformat": 4,
 "nbformat_minor": 2
}
