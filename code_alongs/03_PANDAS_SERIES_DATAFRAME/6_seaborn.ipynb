{
 "cells": [
  {
   "cell_type": "markdown",
   "metadata": {},
   "source": [
    "# Seaborn \n",
    "更多在这里 plotting_basics.ipynb\n",
    "\n",
    "1. 使用 Seaborn 库创建图形    \n",
    "- sns.barplot(data=top5_category, x = 'FoodCategory', y = 'Calories')        \n",
    "               \n",
    "sns :使用 Seaborn 绘制了一个柱状图 (bar plot)，其中：数据来源是 top5_category：一个包含数据的 DataFrame。x，y 是其中的两个列。"
   ]
  },
  {
   "cell_type": "markdown",
   "metadata": {},
   "source": [
    "## seaborn 的查找\n",
    "\n",
    "- 它有个库有很多数据集，里面很多数据文档，可以直接 sns.load_dataset(\"titanic\") 调用。\n",
    "- 网址： https://github.com/mwaskom/seaborn-data/blob/master/titanic.csv\n",
    "\n",
    "- searh \"seaborn load dataset\" in google ,then find the seaborn github - mwaskom - seaborn-data 数据源\n",
    "- have lots of datasets for visualizatin test it out or mchine learning.\n",
    "- eg. titanic 泰坦尼克\n",
    "\n",
    "### seaborn github 上的 csv 数据提取的两种方式：\n",
    "\n",
    "1. pd.read_csv()   df = pd.read_csv(url) -- pandas 访问网址          \n",
    "import pandas as pd    \n",
    "url = \"https://raw.githubusercontent.com/mwaskom/seaborn-data/master/titanic.csv\"      \n",
    "df = pd.read_csv(url)        \n",
    "df.head()         \n",
    "\n",
    "2. sns.load_dataset(\"titanic\")  --   sns 直接 + 数据名              \n",
    "titanic = sns.load_dataset(\"titanic\")    # Dataframe         \n",
    "titanic.head()         "
   ]
  },
  {
   "cell_type": "markdown",
   "metadata": {},
   "source": [
    "### Seaborn 示例：快速绘图   "
   ]
  },
  {
   "cell_type": "code",
   "execution_count": 1,
   "metadata": {},
   "outputs": [
    {
     "data": {
      "image/png": "[encoded data removed]",
      "text/plain": [
       "<Figure size 640x480 with 1 Axes>"
      ]
     },
     "metadata": {},
     "output_type": "display_data"
    }
   ],
   "source": [
    "import seaborn as sns\n",
    "import matplotlib.pyplot as plt\n",
    "import pandas as pd\n",
    "\n",
    "# Seaborn 示例：快速绘图   \n",
    "\n",
    "# 示例数据\n",
    "tips = sns.load_dataset(\"tips\")    # tips 是 seaborn 网站自带的数据 可以直接引用\n",
    "\n",
    "# 使用 Seaborn 绘制分类柱状图\n",
    "sns.barplot(data=tips, x=\"day\", y=\"total_bill\", hue=\"sex\")\n",
    "\n",
    "# 显示图表\n",
    "plt.show()\n",
    "\n",
    "# 输出：\n",
    "# 自动计算每个 day 的均值并绘制柱状图。\n",
    "#  hue=\"sex\"，图表默认美观，颜色区分 sex 分类数据，无需额外设置。"
   ]
  },
  {
   "cell_type": "markdown",
   "metadata": {},
   "source": [
    "### Matplotlib 示例：等效代码"
   ]
  },
  {
   "cell_type": "code",
   "execution_count": 2,
   "metadata": {},
   "outputs": [
    {
     "name": "stderr",
     "output_type": "stream",
     "text": [
      "/var/folders/gn/2sqcwh556yv91y24xm14ldsc0000gn/T/ipykernel_85595/3127637621.py:16: FutureWarning: The default of observed=False is deprecated and will be changed to True in a future version of pandas. Pass observed=False to retain current behavior or observed=True to adopt the future default and silence this warning.\n",
      "  grouped = tips.groupby([\"day\", \"sex\"])[\"total_bill\"].mean().unstack()\n"
     ]
    },
    {
     "data": {
      "image/png": "[encoded data removed]",
      "text/plain": [
       "<Figure size 640x480 with 1 Axes>"
      ]
     },
     "metadata": {},
     "output_type": "display_data"
    }
   ],
   "source": [
    "# Matplotlib 示例：等效代码\n",
    "\n",
    "import matplotlib.pyplot as plt\n",
    "import pandas as pd\n",
    "\n",
    "# 示例数据\n",
    "tips = sns.load_dataset(\"tips\")\n",
    "\n",
    "# 手动聚合数据\n",
    "# 是 Pandas 中的分组聚合操作，它的作用是对 tips 数据集按 \"day\" 和 \"sex\" 这两列分组，计算每组对应的 \"total_bill\" 列的平均值，\n",
    "# unstack() 并将结果进行格式化，转换为一个 透视表（DataFrame）重新排列成二维表。\n",
    "\n",
    "# unstack() 会将分组中的 某一级索引 转换为列索引。\n",
    "# 在本例中，\"sex\" 会被放到列索引，结果类似于一个透视表 (Pivot Table) 的效果。行索引是 \"day\"，列索引是 \"sex\"。\n",
    "\n",
    "grouped = tips.groupby([\"day\", \"sex\"])[\"total_bill\"].mean().unstack()\n",
    "\n",
    "# 使用 Matplotlib 绘制柱状图\n",
    "fig, ax = plt.subplots()\n",
    "grouped.plot(kind=\"bar\", ax=ax)\n",
    "plt.xlabel(\"day\")\n",
    "plt.ylabel(\"total_bill\")\n",
    "plt.title(\"Average Total Bill by Day and Sex\")\n",
    "plt.show()\n",
    "\n",
    "#输出：\n",
    "# 需要手动聚合数据，再传递给绘图函数。\n",
    "# 图表样式需要额外调整，如颜色、标题、轴标签等。"
   ]
  },
  {
   "cell_type": "code",
   "execution_count": 3,
   "metadata": {},
   "outputs": [
    {
     "data": {
      "text/html": [
       "<div>\n",
       "<style scoped>\n",
       "    .dataframe tbody tr th:only-of-type {\n",
       "        vertical-align: middle;\n",
       "    }\n",
       "\n",
       "    .dataframe tbody tr th {\n",
       "        vertical-align: top;\n",
       "    }\n",
       "\n",
       "    .dataframe thead th {\n",
       "        text-align: right;\n",
       "    }\n",
       "</style>\n",
       "<table border=\"1\" class=\"dataframe\">\n",
       "  <thead>\n",
       "    <tr style=\"text-align: right;\">\n",
       "      <th>sex</th>\n",
       "      <th>Male</th>\n",
       "      <th>Female</th>\n",
       "    </tr>\n",
       "    <tr>\n",
       "      <th>day</th>\n",
       "      <th></th>\n",
       "      <th></th>\n",
       "    </tr>\n",
       "  </thead>\n",
       "  <tbody>\n",
       "    <tr>\n",
       "      <th>Thur</th>\n",
       "      <td>18.714667</td>\n",
       "      <td>16.715312</td>\n",
       "    </tr>\n",
       "    <tr>\n",
       "      <th>Fri</th>\n",
       "      <td>19.857000</td>\n",
       "      <td>14.145556</td>\n",
       "    </tr>\n",
       "    <tr>\n",
       "      <th>Sat</th>\n",
       "      <td>20.802542</td>\n",
       "      <td>19.680357</td>\n",
       "    </tr>\n",
       "    <tr>\n",
       "      <th>Sun</th>\n",
       "      <td>21.887241</td>\n",
       "      <td>19.872222</td>\n",
       "    </tr>\n",
       "  </tbody>\n",
       "</table>\n",
       "</div>"
      ],
      "text/plain": [
       "sex        Male     Female\n",
       "day                       \n",
       "Thur  18.714667  16.715312\n",
       "Fri   19.857000  14.145556\n",
       "Sat   20.802542  19.680357\n",
       "Sun   21.887241  19.872222"
      ]
     },
     "execution_count": 3,
     "metadata": {},
     "output_type": "execute_result"
    }
   ],
   "source": [
    "grouped"
   ]
  },
  {
   "cell_type": "markdown",
   "metadata": {},
   "source": [
    "### 使用 matplotlib 和 seaborn 库来创建一个包含三个子图的图形"
   ]
  },
  {
   "cell_type": "markdown",
   "metadata": {},
   "source": [
    "#### 创建子图\n",
    "\n",
    "- plt.subplots(1, 3)：这表示创建一个包含 1 行和 3 列子图的图形布局，也就是一个横向排列的三个子图。\n",
    "\n",
    "- fig：这是整个图形对象，表示我们创建的这张图，它是 plt.subplots() 函数的第一个返回值。\n",
    "\n",
    "- axes：这是一个包含子图对象的数组。在这个例子中，由于创建了 1 行 3 列的子图，axes 将是一个包含 3 个子图对象的数组。你可以通过 axes[0]、axes[1] 和 axes[2] 来访问每个子图。\n",
    "\n",
    "- dpi=120：指定图形的分辨率，单位是每英寸点数（DPI）。120 dpi 表示图像每英寸包含 120 个点，相对较高的分辨率。\n",
    "\n",
    "- figsize=(16, 4)：设置图形的大小，单位是英寸。这里的 (16, 4) 表示图形的宽度是 16 英寸，高度是 4 英寸。"
   ]
  },
  {
   "cell_type": "code",
   "execution_count": null,
   "metadata": {},
   "outputs": [],
   "source": [
    "# 1. 创建子图- 3个\n",
    "fig, axes = plt.subplots(1, 3, dpi=120, figsize=(16, 4))\n",
    "\n",
    "# 2. 标题，数据 和 X 轴列\n",
    "titles = [\"Solid Top 5\", \"Liquids Top 5\", \"top 5 per group median\"]  \n",
    "data_frames = [solids_top5, liquids_top5, top5_category]\n",
    "x_columns = [\"FoodItem\", \"FoodItem\", \"FoodCategory\"]\n",
    "\n",
    "# 3. 循环绘制图形\n",
    "for ax, data, title, x_column in zip(axes, data_frames, titles, x_columns):  # zip 同时迭代这些参数\n",
    "    sns.barplot(data=data, x = x_column, y=\"Calories\", ax=ax)    # y=\"Calories\" 三个图每个列都是这个值\n",
    "    ax.set(title=title)  # 设置每个子图的标题。 ax=ax 指定绘制到哪个子图（坐标轴）上\n",
    "\n",
    "    # looks ugly, do some changes x轴 标题竖着显示了。\n",
    "    # 是 matplotlib 中的一个方法， 用于设置 X 轴的标签文本。\n",
    "    # get_xticklabels(), rotation=90 的作用是把当前的 X 轴标签重新设置为相同的标签，但额外增加了 rotation=90 参数。\n",
    "    ax.set_xticklabels(ax.get_xticklabels(), rotation = 90)\n",
    "\n",
    "# 4. 保存图形， 到 figures 文件夹的 .png 文件格式。\n",
    "# bbox_inches=\"tight\" 选项会确保图形边界紧凑，去除不必要的空白区域。通常会自动调整图像的边界，使得图形和标签都能尽可能地在图像区域内显示。\n",
    "\n",
    "fig.savefig(\"figures/Calories.png\", bbox_inches = \"tight\")"
   ]
  },
  {
   "cell_type": "code",
   "execution_count": null,
   "metadata": {},
   "outputs": [],
   "source": [
    "# 可以看第一个表的数据\n",
    "data_frames[0]"
   ]
  },
  {
   "cell_type": "code",
   "execution_count": null,
   "metadata": {},
   "outputs": [],
   "source": []
  },
  {
   "cell_type": "code",
   "execution_count": null,
   "metadata": {},
   "outputs": [],
   "source": []
  },
  {
   "cell_type": "code",
   "execution_count": null,
   "metadata": {},
   "outputs": [],
   "source": []
  },
  {
   "cell_type": "markdown",
   "metadata": {},
   "source": [
    "### Seaborn 是什么？            \n",
    "- Seaborn 是一个基于 Matplotlib 的高级数据可视化库，专门用于绘制统计图表。         \n",
    "- 它可以让你用更少的代码、更美观的样式生成强大的数据可视化。  \n",
    "\n",
    "对比点\t        Seaborn\t                               Matplotlib    \n",
    "适用场景       \t快速生成统计图表，探索性数据分析（EDA）。  \t高度自定义绘图，或需要控制图形的每个细节。   \n",
    "复杂数据处理   \t自动处理分类数据和统计聚合。\t           需要手动处理数据，提供更大的灵活性。     \n",
    "学习曲线  \t    更易上手，尤其是 Pandas 用户。\t         初学者可能需要较长时间掌握其灵活性和复杂性。 \n",
    "\n",
    "- Seaborn 更适合数据分析阶段，快速探索数据模式。\n",
    "- Matplotlib 更适合复杂和高度自定义的场景。\n",
    "- 两者结合使用往往可以发挥最大的优势！\n",
    "\n",
    "- 示例对比       \n",
    "Seaborn 示例：快速绘图      \n",
    "Matplotlib 示例：等效代码     "
   ]
  }
 ],
 "metadata": {
  "kernelspec": {
   "display_name": ".venv",
   "language": "python",
   "name": "python3"
  },
  "language_info": {
   "codemirror_mode": {
    "name": "ipython",
    "version": 3
   },
   "file_extension": ".py",
   "mimetype": "text/x-python",
   "name": "python",
   "nbconvert_exporter": "python",
   "pygments_lexer": "ipython3",
   "version": "3.11.5"
  }
 },
 "nbformat": 4,
 "nbformat_minor": 2
}
