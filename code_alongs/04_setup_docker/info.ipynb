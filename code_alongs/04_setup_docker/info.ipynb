{
 "cells": [
  {
   "cell_type": "markdown",
   "metadata": {},
   "source": [
    "# Docker \n",
    "\n",
    "是一个开源的容器化平台，它允许开发者以一种轻量级、可移植和一致的方式打包、分发和运行应用程序。Docker 主要通过容器技术来隔离应用程序和环境，使得应用能够在任何支持 Docker 的环境中一致地运行，无论是开发机器、测试环境，还是生产服务器\n",
    "\n",
    "1. 容器（Container）：\n",
    "2. 镜像（Image）：\n",
    "3. Docker 引擎（Docker Engine）：\n",
    "4. Docker Hub：\n"
   ]
  },
  {
   "cell_type": "markdown",
   "metadata": {},
   "source": [
    "## 安装步骤：\n",
    "下载 Docker Desktop for Mac：\n",
    "\n",
    "访问 Docker 官方网站，下载适用于 macOS 的 Docker Desktop 安装包：\n",
    "Docker Desktop 下载页面\n",
    "安装 Docker Desktop：\n",
    "\n",
    "下载 .dmg 安装包后，双击打开并按照提示将 Docker 拖入应用程序文件夹。\n",
    "启动 Docker Desktop：\n",
    "\n",
    "安装完成后，打开 Docker 应用程序，Docker 引擎会自动启动。\n",
    "验证安装：\n",
    "\n",
    "打开终端并运行以下命令来检查 Docker 是否安装成功：\n",
    "bash\n",
    "Kopiera kod\n",
    "docker --version\n",
    "- 特殊要求：启用虚拟化\n",
    "无论是在 Windows 还是 macOS 上，Docker 都依赖于虚拟化技术（如 Hyper-V、VirtualBox 或 WSL 2）来创建容器。确保你的计算机启用了虚拟化支持。\n",
    "在 macOS 上，Docker Desktop 使用 HyperKit，这也需要硬件虚拟化支持。\n"
   ]
  },
  {
   "cell_type": "code",
   "execution_count": null,
   "metadata": {},
   "outputs": [],
   "source": []
  }
 ],
 "metadata": {
  "language_info": {
   "name": "python"
  }
 },
 "nbformat": 4,
 "nbformat_minor": 2
}
