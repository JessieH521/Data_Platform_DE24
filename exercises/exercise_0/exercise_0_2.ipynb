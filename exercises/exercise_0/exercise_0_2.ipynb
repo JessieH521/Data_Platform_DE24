{
 "cells": [
  {
   "cell_type": "markdown",
   "metadata": {},
   "source": [
    "2. Data quality check\n",
    "Create a function that checks a list that it contains exactly ten elements, and none of them contains None. If they contain None, print out an error message that says that it is invalid and print out what a valid format should be."
   ]
  },
  {
   "cell_type": "markdown",
   "metadata": {},
   "source": [
    "- 使用 try 和 raise 的结合      \n",
    "try 用于捕获异常，而 raise 则是显式抛出异常的方式。它们通常配合使用来实现更灵活的错误处理逻辑。\n",
    "- 为什么需要 try 和 raise 配合？      \n",
    "如果你希望捕获异常并处理它（比如打印日志、返回默认值等），就需要 try 块\n",
    "- try 和 raise 一起使用：     \n",
    "如果你需要捕获并处理异常时，try 用来捕获，raise 用来抛出。"
   ]
  },
  {
   "cell_type": "code",
   "execution_count": 37,
   "metadata": {},
   "outputs": [
    {
     "name": "stdout",
     "output_type": "stream",
     "text": [
      "Valid\n",
      "it does not contain ten elements.\n"
     ]
    },
    {
     "data": {
      "text/plain": [
       "(True, False)"
      ]
     },
     "execution_count": 37,
     "metadata": {},
     "output_type": "execute_result"
    }
   ],
   "source": [
    "def validate_list(lst):\n",
    "    if len(lst) != 10:\n",
    "        print(\"Error: The list must contain exactly 10 elements.\")\n",
    "        print(\"Valid format example: [1, 2, 3, 4, 5, 6, 7, 8, 9, 10]\")\n",
    "        return False\n",
    "    else:  \n",
    "        for i in lst:\n",
    "            if i is None:\n",
    "                print(\"ValueError: It is invalid and valid format should be without None\")\n",
    "                return False\n",
    "                break\n",
    "        print(\"Valid\")\n",
    "        return True                \n",
    "                \n",
    "                # try:\n",
    "                #     raise ValueError(\"It is invalid and valid format should be without None\")\n",
    "                #     return False\n",
    "                # except ValueError as err:\n",
    "                #     print(err)    \n",
    "        \n",
    "\n",
    "num1 = [1,2,3,2,5,6,7,8,0,6]\n",
    "num2 = [5,6,7]\n",
    "num3 = [2,3,5, None, 5,9,7,8,6,4]\n",
    "\n",
    "validate_list(num1), validate_list(num2)\n"
   ]
  },
  {
   "cell_type": "code",
   "execution_count": 38,
   "metadata": {},
   "outputs": [
    {
     "name": "stdout",
     "output_type": "stream",
     "text": [
      "ValueError: It is invalid and valid format should be without None\n"
     ]
    },
    {
     "data": {
      "text/plain": [
       "False"
      ]
     },
     "execution_count": 38,
     "metadata": {},
     "output_type": "execute_result"
    }
   ],
   "source": [
    "validate_list(num3)"
   ]
  },
  {
   "cell_type": "markdown",
   "metadata": {},
   "source": [
    "### return True/ False\n",
    "- 不仅跳出当前的循环，还直接终止整个函数的执行。\n",
    "### break\n",
    "- break 停止当前循环后，程序会继续执行循环后的代码（如果有）。"
   ]
  },
  {
   "cell_type": "code",
   "execution_count": 40,
   "metadata": {},
   "outputs": [
    {
     "name": "stdout",
     "output_type": "stream",
     "text": [
      "The list is valid.\n",
      "Error: The list must contain exactly 10 elements.\n",
      "Valid format example: [1, 2, 3, 4, 5, 6, 7, 8, 9, 10]\n"
     ]
    },
    {
     "data": {
      "text/plain": [
       "(True, False)"
      ]
     },
     "execution_count": 40,
     "metadata": {},
     "output_type": "execute_result"
    }
   ],
   "source": [
    "# LLM\n",
    "\n",
    "def data_quality_check(lst):\n",
    "    \"\"\"\n",
    "    Checks whether the input list contains exactly 10 elements \n",
    "    and none of them is None.\n",
    "\n",
    "    Parameters:\n",
    "        lst (list): The list to check.\n",
    "\n",
    "    Returns:\n",
    "        bool: True if the list is valid, False otherwise.\n",
    "    \"\"\"\n",
    "    # 检查列表长度是否为 10\n",
    "    if len(lst) != 10:\n",
    "        print(\"Error: The list must contain exactly 10 elements.\")\n",
    "        print(\"Valid format example: [1, 2, 3, 4, 5, 6, 7, 8, 9, 10]\")\n",
    "        return False\n",
    "\n",
    "    # 检查列表中是否有 None -- if any\n",
    "    if any(i is None for i in lst):\n",
    "        print(\"Error: The list contains None, which is not allowed.\")\n",
    "        print(\"Valid format example: [1, 2, 3, 4, 5, 6, 7, 8, 9, 10]\")\n",
    "        return False\n",
    "\n",
    "    # 如果通过所有检查，返回 True\n",
    "    print(\"The list is valid.\")\n",
    "    return True\n",
    "\n",
    "num1 = [1,2,3,2,5,6,7,8,0,6]\n",
    "num2 = [5,6,7]\n",
    "num3 = [2,3,5, None, 5,9,7,8,6,4]\n",
    "\n",
    "data_quality_check(num1), data_quality_check(num2)"
   ]
  },
  {
   "cell_type": "code",
   "execution_count": 41,
   "metadata": {},
   "outputs": [
    {
     "name": "stdout",
     "output_type": "stream",
     "text": [
      "Error: The list contains None, which is not allowed.\n",
      "Valid format example: [1, 2, 3, 4, 5, 6, 7, 8, 9, 10]\n"
     ]
    },
    {
     "data": {
      "text/plain": [
       "False"
      ]
     },
     "execution_count": 41,
     "metadata": {},
     "output_type": "execute_result"
    }
   ],
   "source": [
    "data_quality_check(num3)"
   ]
  },
  {
   "cell_type": "code",
   "execution_count": null,
   "metadata": {},
   "outputs": [],
   "source": []
  },
  {
   "cell_type": "code",
   "execution_count": null,
   "metadata": {},
   "outputs": [],
   "source": []
  }
 ],
 "metadata": {
  "kernelspec": {
   "display_name": ".venv",
   "language": "python",
   "name": "python3"
  },
  "language_info": {
   "codemirror_mode": {
    "name": "ipython",
    "version": 3
   },
   "file_extension": ".py",
   "mimetype": "text/x-python",
   "name": "python",
   "nbconvert_exporter": "python",
   "pygments_lexer": "ipython3",
   "version": "3.11.5"
  }
 },
 "nbformat": 4,
 "nbformat_minor": 2
}
