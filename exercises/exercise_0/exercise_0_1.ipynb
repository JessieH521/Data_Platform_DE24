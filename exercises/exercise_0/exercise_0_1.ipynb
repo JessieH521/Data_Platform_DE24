{
 "cells": [
  {
   "cell_type": "markdown",
   "metadata": {},
   "source": [
    "- Schema validation\n",
    "In order to maintain data quality, consistency and reliability, a system needs to validate that it conforms to certain predefined structure or format. This is called schema validation and you'll practice this in the following exercises.\n",
    "- 模式验证\n",
    "为了保持数据质量、一致性和可靠性，系统需要验证其是否符合某些预定义的结构或格式。这称为模式验证，您将在以下练习中练习这一点。\n",
    "\n",
    "  a) Create a dictionary that look like this           \n",
    "  b) Validate that the id is integer, name is string, is_active is boolean and age is integer. It should return true if valid and false if not valid.            \n",
    "\n",
    "  c) The dictionary created can be seen as one row, now lets create more records and store each record (dictionary) in a list.           "
   ]
  },
  {
   "cell_type": "code",
   "execution_count": 1,
   "metadata": {},
   "outputs": [],
   "source": [
    "import numpy as np"
   ]
  },
  {
   "cell_type": "markdown",
   "metadata": {},
   "source": [
    "a) Create the dictionary"
   ]
  },
  {
   "cell_type": "code",
   "execution_count": 4,
   "metadata": {},
   "outputs": [
    {
     "name": "stdout",
     "output_type": "stream",
     "text": [
      "{'id': 101, 'name': 'Erika', 'is_active': True, 'age': 45}\n"
     ]
    }
   ],
   "source": [
    "student = {\"id\": 101, \"name\": \"Erika\", \"is_active\": True, \"age\": 45}\n",
    "print(student)"
   ]
  },
  {
   "cell_type": "markdown",
   "metadata": {},
   "source": [
    "b) Define a function to validate the schema of a dictionary:"
   ]
  },
  {
   "cell_type": "code",
   "execution_count": 5,
   "metadata": {},
   "outputs": [
    {
     "data": {
      "text/plain": [
       "True"
      ]
     },
     "execution_count": 5,
     "metadata": {},
     "output_type": "execute_result"
    }
   ],
   "source": [
    "# Schema validation function  架构验证函数\n",
    "\n",
    "# isinstance() 是 Python 中的一个内置函数，用于检查某个变量是否是指定类型或其子类的实例。\n",
    "# data 是函数的输入参数，预计它是一个字典。\n",
    "# data.get(\"id\"): 从字典 data 中获取键 \"id\" 的值。如果 \"id\" 不存在，则返回 None（而不会抛出错误）。\n",
    "# 如果 \"id\" 不是整数，函数会立即返回 False，表示验证失败。\n",
    "\n",
    "def validate_schema(data):\n",
    "    if not isinstance(data.get(\"id\"), int):\n",
    "        return False\n",
    "    if not isinstance(data.get(\"name\"), str):\n",
    "        return False\n",
    "    if not isinstance(data.get(\"is_active\"), bool):\n",
    "        return False\n",
    "    if not isinstance(data.get(\"age\"), int):\n",
    "        return False\n",
    "    return True        \n",
    "\n",
    "# Test the function with the initial record\n",
    "validate_schema(student)\n",
    "\n",
    "\n",
    "# kokchun\n",
    "# schema 要验证的数据， student 原始数据\n",
    "schema = {\"id\": int, \"name\": str, \"is_active\": bool, \"age\": int}\n",
    "validation_list = []\n",
    "for key, data_type in schema.items():\n",
    "    # print(record[key], data_type )\n",
    "\n",
    "    validation_list.append(isinstance(student[key], data_type))\n",
    "\n",
    "all(validation_list)\n",
    "\n",
    "all([True, False]), any([True, False])\n",
    "\n",
    "# alternative with list comprehension\n",
    "all([isinstance(student[key], data_type) for key, data_type in schema.items()])"
   ]
  },
  {
   "cell_type": "code",
   "execution_count": 6,
   "metadata": {},
   "outputs": [
    {
     "name": "stdout",
     "output_type": "stream",
     "text": [
      "Single record validation: Valid\n"
     ]
    }
   ],
   "source": [
    "# 测试单个字典\n",
    "print(f\"Single record validation: {'Valid' if validate_schema(student) else 'Invalid'}\")\n"
   ]
  },
  {
   "cell_type": "markdown",
   "metadata": {},
   "source": [
    "c) Create additional records and store them in a list: 创建附加记录并将其存储在列表中："
   ]
  },
  {
   "cell_type": "code",
   "execution_count": 7,
   "metadata": {},
   "outputs": [
    {
     "data": {
      "text/plain": [
       "[{'id': 101, 'name': 'Erika', 'is_active': True, 'age': 45},\n",
       " {'id': 102, 'name': 'Marcus', 'is_active': True, 'age': 34},\n",
       " {'id': 103, 'name': 'David', 'is_active': False, 'age': 29},\n",
       " {'id': 104, 'name': 'Anna', 'is_active': True, 'age': 41.5},\n",
       " {'id': 106, 'name': 'Ingrid', 'is_active': 'NOPE', 'age': 8}]"
      ]
     },
     "execution_count": 7,
     "metadata": {},
     "output_type": "execute_result"
    }
   ],
   "source": [
    "# Create a list of records\n",
    "\n",
    "records = [\n",
    "    {\"id\": 101, \"name\": \"Erika\", \"is_active\": True, \"age\": 45},\n",
    "    {\"id\": 102, \"name\": \"Marcus\", \"is_active\": True, \"age\": 34},\n",
    "    {\"id\": 103, \"name\": \"David\", \"is_active\": False, \"age\": 29},\n",
    "    {\"id\": 104, \"name\": \"Anna\", \"is_active\": True, \"age\": 41.5},     # age 是浮点数 (无效)\n",
    "    {\"id\": 106, \"name\": \"Ingrid\", \"is_active\": 'NOPE', \"age\": 8}     # is_active 是字符串 (无效)\n",
    "]\n",
    "records"
   ]
  },
  {
   "cell_type": "markdown",
   "metadata": {},
   "source": [
    "  d) Do schema validation on the JSON array in c) .  对 c) 中的 JSON 数组进行架构验证\n",
    "\n",
    "   Python 的字典列表与 JSON 的对象数组的对等关系\n"
   ]
  },
  {
   "cell_type": "code",
   "execution_count": 8,
   "metadata": {},
   "outputs": [
    {
     "name": "stdout",
     "output_type": "stream",
     "text": [
      "Record: {'id': 101, 'name': 'Erika', 'is_active': True, 'age': 45}, Valid: True\n",
      "Record: {'id': 102, 'name': 'Marcus', 'is_active': True, 'age': 34}, Valid: True\n",
      "Record: {'id': 103, 'name': 'David', 'is_active': False, 'age': 29}, Valid: True\n",
      "Record: {'id': 104, 'name': 'Anna', 'is_active': True, 'age': 41.5}, Valid: False\n",
      "Record: {'id': 106, 'name': 'Ingrid', 'is_active': 'NOPE', 'age': 8}, Valid: False\n"
     ]
    }
   ],
   "source": [
    "# Validate all records\n",
    "\n",
    "for record in records:\n",
    "    is_valid = validate_schema(record)\n",
    "    print(f\"Record: {record}, Valid: {is_valid}\")\n",
    "\n"
   ]
  },
  {
   "cell_type": "markdown",
   "metadata": {},
   "source": [
    " e) Make a function for schema validation and try input the two examples and see if you get correct answer. Also make other examples and test your function.         \n",
    " 创建一个架构验证函数，并尝试输入两个示例，看看是否得到正确答案。还可以创建其他示例并测试您的函数。"
   ]
  },
  {
   "cell_type": "code",
   "execution_count": 25,
   "metadata": {},
   "outputs": [
    {
     "name": "stdout",
     "output_type": "stream",
     "text": [
      "Test1 record validation: Valid\n",
      "Test2 record validation: Invalid\n"
     ]
    }
   ],
   "source": [
    "test_data_1 = {\"id\": 107, \"name\": \"Alice\", \"is_active\": True, \"age\": 25}      # 有效\n",
    "test_data_2 = {\"id\": \"108\", \"name\": \"Bob\", \"is_active\": False, \"age\": \"30\"}   # 无效\n",
    "\n",
    "print(f\"Test1 record validation: {'Valid' if validate_schema(test_data_1) else 'Invalid'}\")\n",
    "print(f\"Test2 record validation: {'Valid' if validate_schema(test_data_2) else 'Invalid'}\")"
   ]
  },
  {
   "cell_type": "code",
   "execution_count": null,
   "metadata": {},
   "outputs": [],
   "source": []
  }
 ],
 "metadata": {
  "kernelspec": {
   "display_name": ".venv",
   "language": "python",
   "name": "python3"
  },
  "language_info": {
   "codemirror_mode": {
    "name": "ipython",
    "version": 3
   },
   "file_extension": ".py",
   "mimetype": "text/x-python",
   "name": "python",
   "nbconvert_exporter": "python",
   "pygments_lexer": "ipython3",
   "version": "3.11.5"
  }
 },
 "nbformat": 4,
 "nbformat_minor": 2
}
