{
 "cells": [
  {
   "cell_type": "markdown",
   "metadata": {},
   "source": [
    "4. Aggregating json data\n",
    "Here we will do group by and sum aggregation without using pandas or sql, but plain python to practice the underlying mechanics behind the language.\n",
    "\n",
    "  a) Read in the file paid.json inside of the data folder. Hint: use load() function from the json library.\n",
    "\n",
    "  b) Now group each name and sum over the total payment. Hint: use defaultdict(int) from collections library\n",
    "\n",
    "  c) Output the result into a new json file called payment_sum.json.\n",
    "\n",
    "  4. 聚合 json 数据\n",
    "这里我们将进行分组和求和聚合，不使用 pandas 或 sql，而是使用普通的 python 来练习该语言背后的底层机制。\n",
    "\n",
    "a) 读取数据文件夹中的 paid.json 文件。提示：使用 json 库中的 load() 函数。\n",
    "\n",
    "b) 现在将每个名称和总付款金额分组。提示：使用 collections 库中的 defaultdict(int)\n",
    "\n",
    "c) 将结果输出到名为 payment_sum.json 的新 json 文件中。"
   ]
  },
  {
   "cell_type": "markdown",
   "metadata": {},
   "source": [
    "### json.load() 和 file.read() \n",
    "\n",
    "- 都是用于处理文件内容的函数.主要区别：\n",
    "\n",
    "json.load() 读取文件并直接解析成 Python 对象（如字典、列表等）。 需要一个打开的文件对象，并自动解析 JSON 数据。\n",
    "file.read() 只是读取文件中的原始内容并返回字符串，不进行解析。 是文件对象的一个方法，它只是将文件内容作为字符串返回。   \n",
    "\n",
    "- 如果你要从一个文件中加载 JSON 数据，并希望将它转换成 Python 对象，使用 json.load()。\n"
   ]
  },
  {
   "cell_type": "code",
   "execution_count": 22,
   "metadata": {},
   "outputs": [
    {
     "data": {
      "text/plain": [
       "[{'name': 'Alice', 'paid': 100},\n",
       " {'name': 'Bob', 'paid': 200},\n",
       " {'name': 'Alice', 'paid': 150},\n",
       " {'name': 'Erik', 'paid': 180},\n",
       " {'name': 'Maja', 'paid': 220}]"
      ]
     },
     "execution_count": 22,
     "metadata": {},
     "output_type": "execute_result"
    }
   ],
   "source": [
    "import json\n",
    "\n",
    "# 第一步：从文件中读取 JSON 数据, # 将 JSON 数据加载为 Python 对象（列表）\n",
    "with open(\"data/paid.json\", \"r\") as file:\n",
    "    data = json.load(file)\n",
    "\n",
    "data[:5]\n"
   ]
  },
  {
   "cell_type": "markdown",
   "metadata": {},
   "source": [
    "  b) Now group each name and sum over the total payment. Hint: use defaultdict(int) from collections library"
   ]
  },
  {
   "cell_type": "code",
   "execution_count": 32,
   "metadata": {},
   "outputs": [
    {
     "name": "stdout",
     "output_type": "stream",
     "text": [
      "For each name and sum over the total payment:\n",
      "Alice: 745\n",
      "Bob: 640\n",
      "Erik: 570\n",
      "Maja: 650\n",
      "Oskar: 300\n",
      "Elsa: 320\n",
      "Liam: 380\n",
      "Astrid: 190\n",
      "Freja: 620\n",
      "Hugo: 250\n",
      "Nils: 130\n",
      "Wilma: 200\n",
      "Alexander: 260\n",
      "Clara: 280\n",
      "Selma: 175\n",
      "Elias: 190\n"
     ]
    }
   ],
   "source": [
    "from collections import defaultdict\n",
    "\n",
    "# 第二步：按名字分组并累加支付金额\n",
    "# 使用 defaultdict 来按协议分组并计算字节数总和\n",
    "paid_dict = defaultdict(int)      # 默认值为 0\n",
    "\n",
    "for line in data:\n",
    "    name = line[\"name\"]\n",
    "    paid = line[\"paid\"]\n",
    "    paid_dict[name] += paid        # 将金额累加到对应名字的键上\n",
    "\n",
    "# paid_dict\n",
    "\n",
    "# 第三步：打印聚合结果\n",
    "print(\"For each name and sum over the total payment:\")\n",
    "for name, total_paid in paid_dict.items():\n",
    "    print(f\"{name}: {total_paid}\")"
   ]
  },
  {
   "cell_type": "markdown",
   "metadata": {},
   "source": [
    "\n",
    "  c) Output the result into a new json file called payment_sum.json."
   ]
  },
  {
   "cell_type": "code",
   "execution_count": null,
   "metadata": {},
   "outputs": [],
   "source": []
  },
  {
   "cell_type": "code",
   "execution_count": null,
   "metadata": {},
   "outputs": [],
   "source": []
  }
 ],
 "metadata": {
  "kernelspec": {
   "display_name": ".venv",
   "language": "python",
   "name": "python3"
  },
  "language_info": {
   "codemirror_mode": {
    "name": "ipython",
    "version": 3
   },
   "file_extension": ".py",
   "mimetype": "text/x-python",
   "name": "python",
   "nbconvert_exporter": "python",
   "pygments_lexer": "ipython3",
   "version": "3.11.5"
  }
 },
 "nbformat": 4,
 "nbformat_minor": 2
}
