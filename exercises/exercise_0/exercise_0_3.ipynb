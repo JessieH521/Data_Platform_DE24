{
 "cells": [
  {
   "cell_type": "markdown",
   "metadata": {},
   "source": [
    "3. Extract data from logs\n",
    "\n",
    "Read in network.log and extract source IP, destination IP, protocol and data size.\n",
    "\n",
    "Expected output:\n",
    "\n",
    "Source: 10.0.0.1 | Destination: 10.0.0.2 | Protocol: TCP | Bytes: 1024\n",
    "Source: 10.0.0.2 | Destination: 10.0.0.3 | Protocol: UDP | Bytes: 2048\n",
    "Source: 10.0.0.3 | Destination: 10.0.0.1 | Protocol: TCP | Bytes: 512\n",
    "\n",
    "Data Transfer Summary:\n",
    "TCP: 1536 bytes\n",
    "UDP: 2048 bytes\n",
    "\n",
    "\n",
    "Hint: you could probably find some complex regexp pattern, but a more strategic approach is to check the formatting and make a strategy based on that."
   ]
  },
  {
   "cell_type": "markdown",
   "metadata": {},
   "source": [
    "## find() 方法\n",
    "\n",
    "- find() 是字符串方法，用于查找子字符串在原始字符串中的第一个出现位置。\n",
    "- line.find(\"Source:\") 会返回 \"Source:\" 在 line 中的 起始位置（索引）。\n",
    "- 如果 \"Source:\" 在字符串中找不到，find() 方法会返回 -1。"
   ]
  },
  {
   "cell_type": "markdown",
   "metadata": {},
   "source": [
    "a）"
   ]
  },
  {
   "cell_type": "code",
   "execution_count": 82,
   "metadata": {},
   "outputs": [
    {
     "name": "stdout",
     "output_type": "stream",
     "text": [
      "Source: 10.0.0.1 | Destination: 10.0.0.2 | Protocol: TCP | Bytes: 1024\n",
      "Source: 10.0.0.2 | Destination: 10.0.0.3 | Protocol: UDP | Bytes: 2048\n",
      "Source: 10.0.0.3 | Destination: 10.0.0.1 | Protocol: TCP | Bytes: 512\n"
     ]
    }
   ],
   "source": [
    "# 方法 一\n",
    "\n",
    "# find()\n",
    "\n",
    "network = []\n",
    "with open(\"data/network.log\", \"r\") as file:\n",
    "    for line in file:\n",
    "        line = line.strip()\n",
    "        source_line = line.find(\"Source\")   # 获取 \"Source:\" 的起始位置\n",
    "        if source_line != -1:             # 确保 \"Source:\" 存在\n",
    "            extracted_data = line[source_line:]    # 从 \"Source:\" 开始截取\n",
    "            network.append(extracted_data)\n",
    "            print(extracted_data)\n",
    "\n"
   ]
  },
  {
   "cell_type": "code",
   "execution_count": 83,
   "metadata": {},
   "outputs": [
    {
     "data": {
      "text/plain": [
       "['Source: 10.0.0.1 | Destination: 10.0.0.2 | Protocol: TCP | Bytes: 1024',\n",
       " 'Source: 10.0.0.2 | Destination: 10.0.0.3 | Protocol: UDP | Bytes: 2048',\n",
       " 'Source: 10.0.0.3 | Destination: 10.0.0.1 | Protocol: TCP | Bytes: 512']"
      ]
     },
     "execution_count": 83,
     "metadata": {},
     "output_type": "execute_result"
    }
   ],
   "source": [
    "network"
   ]
  },
  {
   "cell_type": "markdown",
   "metadata": {},
   "source": [
    "## re\n",
    "\n",
    "- .*：这部分是正则表达式的核心：\n",
    "- .：匹配任意字符（除了换行符）。\n",
    "- *：表示零个或多个前面的字符。因此，.* 会匹配 \"Source:\" 后面所有的字符，直到行的结束。\n",
    "\n",
    "1. match.group()     \n",
    "match.group() 方法用于获取匹配结果。对于 re.search() 函数，如果匹配成功，match 对象将包含匹配到的内容。group() 方法返回完整的匹配字符串。"
   ]
  },
  {
   "cell_type": "code",
   "execution_count": 84,
   "metadata": {},
   "outputs": [
    {
     "name": "stdout",
     "output_type": "stream",
     "text": [
      "Source: 10.0.0.1 | Destination: 10.0.0.2 | Protocol: TCP | Bytes: 1024\n",
      "Source: 10.0.0.2 | Destination: 10.0.0.3 | Protocol: UDP | Bytes: 2048\n",
      "Source: 10.0.0.3 | Destination: 10.0.0.1 | Protocol: TCP | Bytes: 512\n"
     ]
    }
   ],
   "source": [
    "# 方法二: 正则表达式\n",
    "\n",
    "import re \n",
    "network = []\n",
    "with open(\"data/network.log\", \"r\") as file:\n",
    "    for line in file:\n",
    "        line = line.strip()\n",
    "        match = re.search(\"Source.*\", line)          # 正则表达式匹配从 \"Source:\" 开始到行末的内容\n",
    "        if match:\n",
    "            extracted_data = match.group()\n",
    "            network.append(extracted_data)\n",
    "            print(extracted_data)                      # 提取匹配的部分\n"
   ]
  },
  {
   "cell_type": "markdown",
   "metadata": {},
   "source": [
    "b）\n",
    "\n",
    "上面三行 转换成 一个列表里包含 三行字典，其中 \"Bytes\"  的类型变成 int。       \n",
    "因为所有从文件或字符串中读取的内容，默认都是以字符串类型存储的。"
   ]
  },
  {
   "cell_type": "code",
   "execution_count": 85,
   "metadata": {},
   "outputs": [
    {
     "data": {
      "text/plain": [
       "[{'Source': '10.0.0.1',\n",
       "  'Destination': '10.0.0.2',\n",
       "  'Protocol': 'TCP',\n",
       "  'Bytes': 1024},\n",
       " {'Source': '10.0.0.2',\n",
       "  'Destination': '10.0.0.3',\n",
       "  'Protocol': 'UDP',\n",
       "  'Bytes': 2048},\n",
       " {'Source': '10.0.0.3',\n",
       "  'Destination': '10.0.0.1',\n",
       "  'Protocol': 'TCP',\n",
       "  'Bytes': 512}]"
      ]
     },
     "execution_count": 85,
     "metadata": {},
     "output_type": "execute_result"
    }
   ],
   "source": [
    "# 初始化结果列表\n",
    "network_dicts = []\n",
    "\n",
    "for line in network:\n",
    "    pairs = line.split(\" | \")\n",
    "    log_entry = {}\n",
    "    for pair in pairs:\n",
    "        key, value = pair.split(\": \")\n",
    "        log_entry[key.strip()] = int(value.strip()) if key.strip() == \"Bytes\" else value.strip()\n",
    "    network_dicts.append(log_entry)\n",
    "\n",
    "network_dicts"
   ]
  },
  {
   "cell_type": "code",
   "execution_count": 86,
   "metadata": {},
   "outputs": [
    {
     "name": "stdout",
     "output_type": "stream",
     "text": [
      "Data Transfer Summary:\n",
      "TCP: 1536 bytes\n",
      "UDP: 2048 bytes\n"
     ]
    }
   ],
   "source": [
    "# Data Transfer Summary:\n",
    "# TCP: 1536 bytes\n",
    "# UDP: 2048 bytes\n",
    "\n",
    "import pandas as pd\n",
    "\n",
    "# 把 network_dicts 变成 Dataframe\n",
    "df = pd.DataFrame(network_dicts)\n",
    "protocol_bytes = df.groupby(\"Protocol\")[\"Bytes\"].sum()\n",
    "# protocol_bytes\n",
    "\n",
    "\n",
    "print(\"Data Transfer Summary:\")\n",
    "\n",
    "print(f\"TCP: {protocol_bytes['TCP']} bytes\")\n",
    "print(f\"UDP: {protocol_bytes['UDP']} bytes\")"
   ]
  },
  {
   "cell_type": "code",
   "execution_count": 87,
   "metadata": {},
   "outputs": [
    {
     "data": {
      "text/plain": [
       "Protocol\n",
       "TCP    1536\n",
       "UDP    2048\n",
       "Name: Bytes, dtype: int64"
      ]
     },
     "execution_count": 87,
     "metadata": {},
     "output_type": "execute_result"
    }
   ],
   "source": [
    "protocol_bytes"
   ]
  }
 ],
 "metadata": {
  "kernelspec": {
   "display_name": ".venv",
   "language": "python",
   "name": "python3"
  },
  "language_info": {
   "codemirror_mode": {
    "name": "ipython",
    "version": 3
   },
   "file_extension": ".py",
   "mimetype": "text/x-python",
   "name": "python",
   "nbconvert_exporter": "python",
   "pygments_lexer": "ipython3",
   "version": "3.11.5"
  }
 },
 "nbformat": 4,
 "nbformat_minor": 2
}
