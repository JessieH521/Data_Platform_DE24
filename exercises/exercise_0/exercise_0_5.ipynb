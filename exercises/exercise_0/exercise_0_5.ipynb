{
 "cells": [
  {
   "cell_type": "markdown",
   "metadata": {},
   "source": [
    "5. Simulating data streams 模拟数据流\n",
    "\n",
    "In this task we will simulate data streams and process it.\n",
    "\n",
    "simualated_stream = [\"record1\", \"record2\", \"record3\", \"record4\", \"STOP\", \"record5\"]\n",
    "\n",
    "Based on this simulated stream, print out the result processed record if the record is not the STOP signal. Print out with 1 second delay between each processed record.\n",
    "基于此模拟流，如果记录不是 STOP 信号，则打印出处理结果记录。打印时每处理一条记录之间会延迟 1 秒。\n",
    "\n",
    "Output for this example is:\n",
    "\n",
    "Starting data stream srocessing...\n",
    "\n",
    "Processed: record1\n",
    "Processed: record2\n",
    "Processed: record3\n",
    "Processed: record4\n",
    "STOP signal encountered. Ending stream processing.\n",
    "\n",
    "Data stream processing completed. Have a nice day"
   ]
  },
  {
   "cell_type": "code",
   "execution_count": 1,
   "metadata": {},
   "outputs": [
    {
     "name": "stdout",
     "output_type": "stream",
     "text": [
      "Starting data stream processing...\n",
      "Processed: record1\n",
      "Processed: record2\n",
      "Processed: record3\n",
      "Processed: record4\n",
      "STOP signal encountered. Ending stream processing.\n",
      "Data stream processing completed. Have a nice day\n"
     ]
    }
   ],
   "source": [
    "import time \n",
    "\n",
    "# Simulated data stream\n",
    "simualated_stream = [\"record1\", \"record2\", \"record3\", \"record4\", \"STOP\", \"record5\"]\n",
    "\n",
    "# Start processing the data stream\n",
    "print(\"Starting data stream processing...\")\n",
    "for record in simualated_stream:\n",
    "    if record == \"STOP\":\n",
    "        print(\"STOP signal encountered. Ending stream processing.\")\n",
    "        break\n",
    "    print(f\"Processed: {record}\")\n",
    "    time.sleep(1)\n",
    "    # Introduce a 1-second delay between processing each record\n",
    "\n",
    "# End of stream processing\n",
    "print(\"Data stream processing completed. Have a nice day\")\n",
    "\n"
   ]
  }
 ],
 "metadata": {
  "kernelspec": {
   "display_name": ".venv",
   "language": "python",
   "name": "python3"
  },
  "language_info": {
   "codemirror_mode": {
    "name": "ipython",
    "version": 3
   },
   "file_extension": ".py",
   "mimetype": "text/x-python",
   "name": "python",
   "nbconvert_exporter": "python",
   "pygments_lexer": "ipython3",
   "version": "3.11.5"
  }
 },
 "nbformat": 4,
 "nbformat_minor": 2
}
