{
 "cells": [
  {
   "cell_type": "markdown",
   "metadata": {},
   "source": [
    "5. Simulating data streams 模拟数据流\n",
    "\n",
    "In this task we will simulate data streams and process it.\n",
    "\n",
    "simualated_stream = [\"record1\", \"record2\", \"record3\", \"record4\", \"STOP\", \"record5\"]\n",
    "\n",
    "Based on this simulated stream, print out the result processed record if the record is not the STOP signal. Print out with 1 second delay between each processed record.\n",
    "基于此模拟流，如果记录不是 STOP 信号，则打印出处理结果记录。打印时每处理一条记录之间会延迟 1 秒。\n",
    "\n",
    "Output for this example is:\n",
    "\n",
    "Starting data stream srocessing...\n",
    "\n",
    "Processed: record1\n",
    "Processed: record2\n",
    "Processed: record3\n",
    "Processed: record4\n",
    "STOP signal encountered. Ending stream processing.\n",
    "\n",
    "Data stream processing completed. Have a nice day"
   ]
  },
  {
   "cell_type": "code",
   "execution_count": null,
   "metadata": {},
   "outputs": [],
   "source": []
  }
 ],
 "metadata": {
  "language_info": {
   "name": "python"
  }
 },
 "nbformat": 4,
 "nbformat_minor": 2
}
