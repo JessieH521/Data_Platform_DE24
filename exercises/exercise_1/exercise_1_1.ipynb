{
 "cells": [
  {
   "cell_type": "markdown",
   "metadata": {},
   "source": [
    "The dataset is called betyg_o_prov_riksnivå.xlsx and found here.\n",
    "\n",
    "  a) Draw a line chart for proportion of students that are missing approved grade for one or more subjects for the years 18-23.\n",
    "\n",
    "  b) Validate that the id is integer, name is string, is_active is boolean and age is integer. It should return true if valid and false if not valid.\n",
    "\n",
    "  c) Examine other variable(s) of your choice and check how they affect the students grade. For example you could choose \"föräldrarnas utbildningsbakgrund\", parents grades.\n",
    "\n",
    "  d) Feel free to do more EDA on this dataset."
   ]
  },
  {
   "cell_type": "code",
   "execution_count": 1,
   "metadata": {},
   "outputs": [],
   "source": [
    "import pandas as pd \n",
    "import matplotlib as plt\n",
    "import seaborn as sns"
   ]
  }
 ],
 "metadata": {
  "kernelspec": {
   "display_name": ".venv",
   "language": "python",
   "name": "python3"
  },
  "language_info": {
   "codemirror_mode": {
    "name": "ipython",
    "version": 3
   },
   "file_extension": ".py",
   "mimetype": "text/x-python",
   "name": "python",
   "nbconvert_exporter": "python",
   "pygments_lexer": "ipython3",
   "version": "3.11.5"
  }
 },
 "nbformat": 4,
 "nbformat_minor": 2
}
